{
 "cells": [
  {
   "cell_type": "markdown",
   "metadata": {
    "id": "Yy7iB5_Hohyt"
   },
   "source": [
    "# Flask tutorial 2"
   ]
  },
  {
   "cell_type": "markdown",
   "metadata": {
    "id": "A7jwOrzCohy2"
   },
   "source": [
    "## 簡介\n",
    "\n",
    "- 這一次簡報將和大家分享怎麼使用Flask配合Bootstrap來完成一個網站\n",
    "- 並說明如何把網頁發佈到Heroku上，讓大家可以看到你的作品\n",
    "- 最後將以Flask + Bootstrap + Chart.js 把收集到的數據在以網頁的型式呈現"
   ]
  },
  {
   "cell_type": "markdown",
   "metadata": {
    "id": "r7-_T_T0ohy4"
   },
   "source": [
    "## 大網\n",
    "\n",
    "1. Flask簡介 - 來個Hello world吧\n",
    "2. BootStrap是什麼?\n",
    "3. Flask + Bootstrap4 來做個好像很專業的網站吧!\n",
    "4. 把成品推上Heroku，讓世界看到你\n",
    "5. 設計Web API讓前端可以取得資料\n",
    "6. Flask + Bootstrap4 + Chart.js"
   ]
  },
  {
   "cell_type": "markdown",
   "metadata": {
    "id": "hlqODvpyohy6"
   },
   "source": [
    "----\n",
    "## Flask\n",
    "Python 撰寫的輕量級 Web 應用程式框架\n",
    "\n",
    "- [Flask網頁](http://flask.pocoo.org/)\n",
    "\n",
    "- [可以參考](https://medium.com/pyladies-taiwan/%E5%BE%9E%E7%93%B6%E8%A3%A1%E5%80%92%E5%87%BA%E7%AC%AC%E4%B8%80%E6%BB%B4-flask-%E9%96%8B%E5%A7%8B%E5%8B%95%E6%89%8B%E7%8E%A9-95f85895fd64)\n"
   ]
  },
  {
   "cell_type": "markdown",
   "metadata": {
    "id": "ceGTFVbNohy7"
   },
   "source": [
    "## Demo_01: 先不多說，做一個Flask網頁來看看\n",
    "\n",
    "## !!請不要在 jupyter or colab 中跑 web 程式!!"
   ]
  },
  {
   "cell_type": "markdown",
   "metadata": {
    "id": "mNk-hfuaohy8"
   },
   "source": [
    "- Hello flask"
   ]
  },
  {
   "cell_type": "code",
   "execution_count": null,
   "metadata": {
    "id": "dLGTK57Pohy9"
   },
   "outputs": [],
   "source": [
    "from flask import Flask\n",
    "\n",
    "app = Flask(__name__)\n",
    "\n",
    "@app.route(\"/\")\n",
    "def index():\n",
    "    return \"<h1>Hello Flask</h1>\"\n",
    "\n",
    "if __name__ == \"__main__\":\n",
    "    app.run()"
   ]
  },
  {
   "cell_type": "markdown",
   "metadata": {
    "id": "-uEKeeJvohzB"
   },
   "source": [
    "## Demo_02: debug\n",
    "加入Debug參數\n",
    "\n",
    "- 會有進一步的debug資訊產生，且一修改程式存檔，它就會再reload\n",
    "- 連: http://127.0.0.1:5000/ 測試\n",
    "- 比如我們把剛剛的程式改成，並存檔，整個server就會重新跑過，變成新的內容執行，非常方便\n",
    "```python\n",
    "@app.route(\"/\")\n",
    "def index():\n",
    "    return \"<h1>Hello Flask</h1> <br><h2>第二標題</h2>\"\n",
    "```\n",
    "- 並且再程式出錯時他會給較多的debug訊息: 我們可以連 http://127.0.0.1:5000/error 測試"
   ]
  },
  {
   "cell_type": "code",
   "execution_count": null,
   "metadata": {
    "id": "PGSBmGKDohzC"
   },
   "outputs": [],
   "source": [
    "from flask import Flask\n",
    "\n",
    "app = Flask(__name__)\n",
    "\n",
    "@app.route(\"/\")\n",
    "def index():\n",
    "    return \"<h1>Hello Flask</h1>\"\n",
    "\n",
    "@app.route(\"/error\")\n",
    "def error():\n",
    "    raise RuntimeError\n",
    "\n",
    "if __name__ == \"__main__\":\n",
    "    app.run(debug=True)"
   ]
  },
  {
   "cell_type": "markdown",
   "metadata": {
    "id": "nzY-6lh8ohzE"
   },
   "source": [
    "## Demo_03: 指定Port\n",
    "\n",
    "- 預設為port=5000，可以設定port參數改變服務的port\n"
   ]
  },
  {
   "cell_type": "code",
   "execution_count": null,
   "metadata": {
    "id": "ditO6G4wohzF"
   },
   "outputs": [],
   "source": [
    "\n",
    "from flask import Flask\n",
    "\n",
    "app = Flask(__name__)\n",
    "\n",
    "@app.route(\"/\")\n",
    "def index():\n",
    "    return \"<h1>Hello Flask</h1>\"\n",
    "\n",
    "if __name__ == \"__main__\":\n",
    "    app.run(debug=True, port=8000)"
   ]
  },
  {
   "cell_type": "markdown",
   "metadata": {
    "id": "58n1HeE7ohzF"
   },
   "source": [
    "## Demo_04: Dynamic route\n",
    "- By default flask takes \"string\", but you can also specify other types.\n",
    "    - Type: int, float, path"
   ]
  },
  {
   "cell_type": "code",
   "execution_count": null,
   "metadata": {
    "id": "yo6oVHrpohzG"
   },
   "outputs": [],
   "source": [
    "\n",
    "from flask import Flask\n",
    "\n",
    "app = Flask(__name__)\n",
    "\n",
    "@app.route(\"/\")\n",
    "def index():\n",
    "    return \"<h1>Hello flask</h1>\"\n",
    "\n",
    "#-- new add below\n",
    "\n",
    "@app.route(\"/user/<name>\")\n",
    "def get_user_name(name):\n",
    "    return \"<h1>Hello, %s!</h1>\" %(name)\n",
    "\n",
    "@app.route(\"/user/<int:uid>\")\n",
    "def get_user_id(uid):\n",
    "    if isinstance(uid, int):\n",
    "        return \"<h1>Your ID: %s</h1>\" %(uid)\n",
    "    return \"<h1>ID should be int</h1>\"\n",
    "\n",
    "@app.route(\"/user/<path:path>\")\n",
    "def get_user_path(path):\n",
    "    return \"<h1>Path: %s</h1>\" %(path)\n",
    "\n",
    "if __name__ == \"__main__\":\n",
    "    app.run(debug=True, port=8000)"
   ]
  },
  {
   "cell_type": "markdown",
   "metadata": {
    "id": "yHr22awdohzI"
   },
   "source": [
    "## 常見的http status code\n",
    "\n",
    "- 200 : OK\n",
    "- 400 : bad request\n",
    "- 404 : not found\n",
    "\n",
    "![img](https://avengering.com/wp-content/uploads/2020/03/1_w_iicbG7L3xEQTArjHUS6g.jpeg)"
   ]
  },
  {
   "cell_type": "markdown",
   "metadata": {},
   "source": [
    "----\n",
    "- 另一種說法\n",
    "\n",
    "![img](https://pics.me.me/steve-losh-stevelosh-http-status-ranges-in-a-nutshell-1xx-55814487.png)"
   ]
  },
  {
   "cell_type": "markdown",
   "metadata": {
    "id": "F_vlhhEvohzJ"
   },
   "source": [
    "----"
   ]
  },
  {
   "cell_type": "markdown",
   "metadata": {
    "id": "f-EY-IP5ohzL"
   },
   "source": [
    "----"
   ]
  },
  {
   "cell_type": "markdown",
   "metadata": {
    "id": "3qnK4AVkohzL"
   },
   "source": [
    "## Demo_05: 先讓網頁和python code獨立\n",
    "進入下一個主題的前知識點"
   ]
  },
  {
   "cell_type": "code",
   "execution_count": null,
   "metadata": {
    "id": "R6bMZPSIohzM"
   },
   "outputs": [],
   "source": [
    "<!-- templates/index.html -->\n",
    "\n",
    "<h1>Hello World!</h1>"
   ]
  },
  {
   "cell_type": "code",
   "execution_count": null,
   "metadata": {
    "id": "4Q2NxyIuohzN"
   },
   "outputs": [],
   "source": [
    "<!-- templates/user.html -->\n",
    "\n",
    "<h1>Hello, {{ name }}!</h1>"
   ]
  },
  {
   "cell_type": "code",
   "execution_count": null,
   "metadata": {
    "id": "4QXVpELrohzN"
   },
   "outputs": [],
   "source": [
    "# app.py\n",
    "\n",
    "from flask import Flask, render_template\n",
    "\n",
    "app = Flask(__name__)\n",
    "\n",
    "@app.route(\"/\")\n",
    "def index():\n",
    "    return render_template(\"index.html\")\n",
    "\n",
    "@app.route(\"/user/<name>\")\n",
    "def user(name):\n",
    "    return render_template(\"user.html\", title=\"\", name=name)\n",
    "\n",
    "if __name__ == \"__main__\":\n",
    "    app.run(debug=True)"
   ]
  },
  {
   "cell_type": "markdown",
   "metadata": {
    "id": "QDzCV7B5ohzO"
   },
   "source": [
    "### Jinja!?"
   ]
  },
  {
   "cell_type": "markdown",
   "metadata": {
    "id": "55rmteQ_ohzO"
   },
   "source": [
    "----"
   ]
  },
  {
   "cell_type": "markdown",
   "metadata": {
    "id": "-Bt9P8u7ohzP"
   },
   "source": [
    "## Demo_06 : Flask + Bootstrap 來個好像很專業的網頁!!!!\n",
    "- 在使用樣板前，我們先看看static資料夾中有什麼?\n",
    "- 看一下 http://127.0.0.1:8000/static/index.html\n",
    "- 加入樣板"
   ]
  },
  {
   "cell_type": "markdown",
   "metadata": {
    "id": "p3-0FBJTohzJ"
   },
   "source": [
    "## Bootstrap\n",
    "\n",
    "- [bootstrap網頁](https://getbootstrap.com/)\n",
    "- [bootstrap template](https://startbootstrap.com/themes/)\n"
   ]
  },
  {
   "cell_type": "markdown",
   "metadata": {
    "id": "NcR6jPOyohzK"
   },
   "source": [
    "### 下載一份樣版來看看\n",
    "\n",
    "- [resume](https://startbootstrap.com/themes/resume/)\n",
    "    - 先做一個自己的主頁\n",
    "    \n",
    "- [Business](https://startbootstrap.com/themes/business-casual/)\n",
    "    - Bussiness page\n",
    "\n",
    "- [Chart](https://startbootstrap.com/templates/sb-admin/)\n",
    "- [chart2](https://startbootstrap.com/themes/sb-admin-2/)\n",
    "    - 試玩一下，晚點再來了解怎麼用它\n"
   ]
  },
  {
   "cell_type": "markdown",
   "metadata": {
    "id": "HRUbqg7_ohzP"
   },
   "source": [
    "----\n",
    "## Demo_07: 推上Heroku，讓全世界都看到你!\n",
    "Flask + BS4網頁 + Heroku = 正式公開網站\n",
    "\n",
    "- 會睡覺? 付個錢吧，比你買電腦還便宜的\n",
    "- 7美元*12 = 210 *12 = 2520 (申請固定IP都比這個貴!)"
   ]
  },
  {
   "cell_type": "markdown",
   "metadata": {
    "id": "gZDC0ZC-ohzQ"
   },
   "source": [
    "### 如何佈署到Heroku\n",
    "\n",
    "在Demo_07中，Procfile是告訴Heroku要怎麼執行你的web程式，而requirements是告訴它要先安裝什麼套件\n",
    "\n",
    "- 前置作業\n",
    "    - 你要先安裝 git: https://git-scm.com/\n",
    "    - 再裝heroku toolbelt: https://blog.heroku.com/the_heroku_toolbelt\n",
    "- 如果剛裝完git\n",
    "    - git config --global user.email \"you@example.com\"\n",
    "    - git config --global user.name \"Your Name\"\n",
    "- 上工吧\n",
    "    - git init\n",
    "    - git add .\n",
    "    - heroku apps:create malo-test            <-- 這邊的\"malo-test\"要改成你自己的名字\n",
    "    - git commit -am \"first version\"\n",
    "    - git push heroku master"
   ]
  },
  {
   "cell_type": "code",
   "execution_count": null,
   "metadata": {},
   "outputs": [],
   "source": []
  }
 ],
 "metadata": {
  "colab": {
   "name": "day4-4.ipynb",
   "provenance": []
  },
  "kernelspec": {
   "display_name": "Python 3",
   "language": "python",
   "name": "python3"
  },
  "language_info": {
   "codemirror_mode": {
    "name": "ipython",
    "version": 3
   },
   "file_extension": ".py",
   "mimetype": "text/x-python",
   "name": "python",
   "nbconvert_exporter": "python",
   "pygments_lexer": "ipython3",
   "version": "3.7.0"
  }
 },
 "nbformat": 4,
 "nbformat_minor": 2
}
